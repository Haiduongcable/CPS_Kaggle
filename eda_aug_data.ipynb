{
 "cells": [
  {
   "cell_type": "code",
   "execution_count": 1,
   "metadata": {},
   "outputs": [
    {
     "name": "stderr",
     "output_type": "stream",
     "text": [
      "/home/asilla/anaconda3/envs/duongnh/lib/python3.7/site-packages/tqdm/auto.py:22: TqdmWarning: IProgress not found. Please update jupyter and ipywidgets. See https://ipywidgets.readthedocs.io/en/stable/user_install.html\n",
      "  from .autonotebook import tqdm as notebook_tqdm\n"
     ]
    }
   ],
   "source": [
    "import os \n",
    "import numpy as np \n",
    "import cv2 \n",
    "import torch \n",
    "import random\n",
    "from tqdm import tqdm"
   ]
  },
  {
   "cell_type": "code",
   "execution_count": 2,
   "metadata": {},
   "outputs": [],
   "source": [
    "#Update Augementation offline\n",
    "path_dataset = \"/home/asilla/duongnh/project/Analys_COCO/tmp_folder/CrossPseudo_UpdateBranch/Dataset/TrainDataset\"\n",
    "path_des_dataset = \"/home/asilla/duongnh/project/Analys_COCO/tmp_folder/CrossPseudo_UpdateBranch/Dataset/Augmentation/Mosaic_augmentation\"\n",
    "if not os.path.exists(path_des_dataset + \"/mask\"):\n",
    "    os.makedirs(path_des_dataset + \"/mask\")\n",
    "\n",
    "if not os.path.exists(path_des_dataset + \"/image\"):\n",
    "    os.makedirs(path_des_dataset + \"/image\")"
   ]
  },
  {
   "cell_type": "code",
   "execution_count": 8,
   "metadata": {},
   "outputs": [
    {
     "name": "stdout",
     "output_type": "stream",
     "text": [
      "290\n"
     ]
    }
   ],
   "source": [
    "path_image = path_dataset + \"/image\"\n",
    "path_mask = path_dataset + \"/mask\"\n",
    "# l_dataset_nimage = os.listdir(path_image)\n",
    "\n",
    "file_labeled = open(\"dataloader/log.txt\", \"r\")\n",
    "l_dataset_nimage = []\n",
    "for line_nimage in file_labeled:\n",
    "    line_nimage = line_nimage[:-1]\n",
    "    l_dataset_nimage.append(line_nimage)\n",
    "print(len(l_dataset_nimage))\n",
    "\n"
   ]
  },
  {
   "cell_type": "code",
   "execution_count": 9,
   "metadata": {},
   "outputs": [],
   "source": [
    "def process_image(path_image):\n",
    "    image = cv2.imread(path_image)\n",
    "    image = cv2.resize(image, (352, 352))\n",
    "    return image"
   ]
  },
  {
   "cell_type": "code",
   "execution_count": 10,
   "metadata": {},
   "outputs": [],
   "source": [
    "def merge_image(l_image):\n",
    "    l_used_nimage = random.choices(l_image, k=4)\n",
    "    blank_image = np.zeros((352, 352, 3), np.uint8)\n",
    "    blank_mask = np.zeros((352, 352,3), np.uint8)\n",
    "    l_image_used = [process_image(path_image + \"/\" + nimage) for nimage in l_used_nimage]\n",
    "    l_mask_used = [process_image(path_mask + \"/\" + nmask) for nmask in l_used_nimage]\n",
    "    l_resize_image = [cv2.resize(image, (176, 176)) for image in l_image_used]\n",
    "    l_resize_mask = [cv2.resize(mask, (176, 176)) for mask in l_mask_used]\n",
    "    blank_image[:176, :176, :] = l_resize_image[0]\n",
    "    blank_image[:176, 176:, :] = l_resize_image[1]\n",
    "    blank_image[176:, :176, :] = l_resize_image[2]\n",
    "    blank_image[176:, 176:, :] = l_resize_image[3]\n",
    "    \n",
    "    blank_mask[:176, :176, :] = l_resize_mask[0]\n",
    "    blank_mask[:176, 176:, :] = l_resize_mask[1]\n",
    "    blank_mask[176:, :176, :] = l_resize_mask[2]\n",
    "    blank_mask[176:, 176:, :] = l_resize_mask[3]\n",
    "    \n",
    "    return blank_image, blank_mask"
   ]
  },
  {
   "cell_type": "code",
   "execution_count": 11,
   "metadata": {},
   "outputs": [],
   "source": [
    "def mosaic_augmentation(l_nimage):\n",
    "    l_used_nimage = random.choices(l_nimage, k=4)\n",
    "    blank_image = np.zeros((352, 352, 3), np.uint8)\n",
    "    blank_mask = np.zeros((352, 352,3), np.uint8)\n",
    "    l_image_used = [process_image(path_image + \"/\" + nimage) for nimage in l_used_nimage]\n",
    "    l_mask_used = [process_image(path_mask + \"/\" + nmask) for nmask in l_used_nimage]\n",
    "    blank_image[:176, :176, :] = l_image_used[0][:176, :176, :]\n",
    "    blank_image[:176, 176:, :] = l_image_used[1][:176, 176:, :]\n",
    "    blank_image[176:, :176, :] = l_image_used[2][176:, :176, :]\n",
    "    blank_image[176:, 176:, :] = l_image_used[3][176:, 176:, :]\n",
    "    \n",
    "    blank_mask[:176, :176, :] = l_mask_used[0][:176, :176, :]\n",
    "    blank_mask[:176, 176:, :] = l_mask_used[1][:176, 176:, :]\n",
    "    blank_mask[176:, :176, :] = l_mask_used[2][176:, :176, :]\n",
    "    blank_mask[176:, 176:, :] = l_mask_used[3][176:, 176:, :] \n",
    "    \n",
    "    return blank_image, blank_mask"
   ]
  },
  {
   "cell_type": "code",
   "execution_count": 12,
   "metadata": {},
   "outputs": [
    {
     "name": "stderr",
     "output_type": "stream",
     "text": [
      "100%|██████████| 290/290 [00:09<00:00, 29.62it/s]\n"
     ]
    }
   ],
   "source": [
    "#augmentation \n",
    "NUMBER_AUGMENTATION = 290\n",
    "\n",
    "for i in tqdm(range(NUMBER_AUGMENTATION)):\n",
    "    if random.random() <= 0.5:\n",
    "        blank_image, blank_mask = merge_image(l_dataset_nimage)\n",
    "        name_image = \"augmentaton_merge_\" + str(i) + \".png\"\n",
    "    else:\n",
    "        blank_image, blank_mask = mosaic_augmentation(l_dataset_nimage)\n",
    "        name_image = \"augmentaton_mosaic_\" + str(i) + \".png\"\n",
    "    cv2.imwrite(path_des_dataset + \"/image/\" + name_image, blank_image)\n",
    "    cv2.imwrite(path_des_dataset + \"/mask/\" + name_image, blank_mask)"
   ]
  },
  {
   "cell_type": "code",
   "execution_count": null,
   "metadata": {},
   "outputs": [],
   "source": []
  }
 ],
 "metadata": {
  "interpreter": {
   "hash": "1d4c3a7acef685a37c36572b3a166f7e1b7b084a259f94b13cf99b9bb1914a46"
  },
  "kernelspec": {
   "display_name": "Python 3.7.11 ('duongnh')",
   "language": "python",
   "name": "python3"
  },
  "language_info": {
   "codemirror_mode": {
    "name": "ipython",
    "version": 3
   },
   "file_extension": ".py",
   "mimetype": "text/x-python",
   "name": "python",
   "nbconvert_exporter": "python",
   "pygments_lexer": "ipython3",
   "version": "3.7.11"
  },
  "orig_nbformat": 4
 },
 "nbformat": 4,
 "nbformat_minor": 2
}
